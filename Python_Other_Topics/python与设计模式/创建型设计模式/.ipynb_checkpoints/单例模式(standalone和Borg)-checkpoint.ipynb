{
 "cells": [
  {
   "cell_type": "markdown",
   "metadata": {},
   "source": [
    "如果一个类在程序中只会并且只有一个实例,\n",
    "\n",
    "主要优点：\n",
    "\n",
    "1. 提供了对唯一实例的受控访问。\n",
    "2. 由于在系统内存中只存在一个对象，因此可以节约系统资源，对于一些需要频繁创建和销毁的对象单例模式无疑可以提高系统的性能。\n",
    "3. 允许可变数目的实例。\n",
    " \n",
    "主要缺点：\n",
    "\n",
    "1. 由于单利模式中没有抽象层，因此单例类的扩展有很大的困难。\n",
    "2. 单例类的职责过重，在一定程度上违背了“单一职责原则”。\n",
    "3. 滥用单例将带来一些负面问题，如为了节省资源将数据库连接池对象设计为的单例类，可能会导致共享连接池对象的程序过多而出现连接池溢出；如果实例化的对象长时间不被利用，系统会认为是垃圾而被回收，这将导致对象状态的丢失。\n",
    "\n",
    "\n",
    "使用场景:\n",
    "\n",
    "+ 只有一个资源且需要共享其状态信息的场景.\n",
    "\n",
    "\n",
    "那么这就是单例模式了,具体的实现:\n",
    "\n"
   ]
  },
  {
   "cell_type": "markdown",
   "metadata": {},
   "source": [
    "## Borg\n",
    "\n",
    "Borg实际上并不是只有一个实例,而是所有实例共享属性,效果上来看一样啦,它的特点是实例化等于刷新,旧的属性会被替代\n",
    "\n",
    "> 1.继承Borg类实现\n",
    "\n",
    "其实就是共享一个变量,并固定`__dict__`,"
   ]
  },
  {
   "cell_type": "code",
   "execution_count": 1,
   "metadata": {
    "collapsed": true
   },
   "outputs": [],
   "source": [
    "class Borg:\n",
    "    __shared_state = {}\n",
    "\n",
    "    def __init__(self):\n",
    "        self.__dict__ = self.__shared_state\n",
    "        self.state = 'Init'\n",
    "\n",
    "    def __str__(self):\n",
    "        return self.state\n",
    "\n"
   ]
  },
  {
   "cell_type": "code",
   "execution_count": 2,
   "metadata": {
    "collapsed": true
   },
   "outputs": [],
   "source": [
    "class YourBorg(Borg):\n",
    "    def __init__(self,a):\n",
    "        Borg.__init__(self)\n",
    "        self.a = a"
   ]
  },
  {
   "cell_type": "code",
   "execution_count": 3,
   "metadata": {
    "collapsed": false
   },
   "outputs": [
    {
     "data": {
      "text/plain": [
       "1"
      ]
     },
     "execution_count": 3,
     "metadata": {},
     "output_type": "execute_result"
    }
   ],
   "source": [
    "A = YourBorg(1)\n",
    "A.a"
   ]
  },
  {
   "cell_type": "code",
   "execution_count": 4,
   "metadata": {
    "collapsed": false
   },
   "outputs": [
    {
     "data": {
      "text/plain": [
       "2"
      ]
     },
     "execution_count": 4,
     "metadata": {},
     "output_type": "execute_result"
    }
   ],
   "source": [
    "B = YourBorg(2)\n",
    "B.a"
   ]
  },
  {
   "cell_type": "code",
   "execution_count": 5,
   "metadata": {
    "collapsed": false
   },
   "outputs": [
    {
     "data": {
      "text/plain": [
       "2"
      ]
     },
     "execution_count": 5,
     "metadata": {},
     "output_type": "execute_result"
    }
   ],
   "source": [
    "A.a"
   ]
  },
  {
   "cell_type": "code",
   "execution_count": 6,
   "metadata": {
    "collapsed": false
   },
   "outputs": [
    {
     "data": {
      "text/plain": [
       "False"
      ]
     },
     "execution_count": 6,
     "metadata": {},
     "output_type": "execute_result"
    }
   ],
   "source": [
    "id(A) ==id(B)"
   ]
  },
  {
   "cell_type": "markdown",
   "metadata": {},
   "source": [
    "> 利用装饰器实现"
   ]
  },
  {
   "cell_type": "code",
   "execution_count": 7,
   "metadata": {
    "collapsed": true
   },
   "outputs": [],
   "source": [
    "def borg(cls):\n",
    "    cls._state = {}\n",
    "    orig_init = cls.__init__\n",
    "    def new_init(self, *args, **kwargs):\n",
    "        self.__dict__ = cls._state\n",
    "        orig_init(self, *args, **kwargs)\n",
    "    cls.__init__ = new_init\n",
    "    return cls"
   ]
  },
  {
   "cell_type": "code",
   "execution_count": 8,
   "metadata": {
    "collapsed": true
   },
   "outputs": [],
   "source": [
    "@borg\n",
    "class Myborg(object):\n",
    "    def __init__(self,a):\n",
    "        self.a = a\n",
    "    "
   ]
  },
  {
   "cell_type": "code",
   "execution_count": 9,
   "metadata": {
    "collapsed": true
   },
   "outputs": [],
   "source": [
    "C = Myborg(1)"
   ]
  },
  {
   "cell_type": "code",
   "execution_count": 10,
   "metadata": {
    "collapsed": false
   },
   "outputs": [
    {
     "data": {
      "text/plain": [
       "1"
      ]
     },
     "execution_count": 10,
     "metadata": {},
     "output_type": "execute_result"
    }
   ],
   "source": [
    "C.a"
   ]
  },
  {
   "cell_type": "code",
   "execution_count": 11,
   "metadata": {
    "collapsed": true
   },
   "outputs": [],
   "source": [
    "D = Myborg(2)"
   ]
  },
  {
   "cell_type": "code",
   "execution_count": 12,
   "metadata": {
    "collapsed": false
   },
   "outputs": [
    {
     "data": {
      "text/plain": [
       "2"
      ]
     },
     "execution_count": 12,
     "metadata": {},
     "output_type": "execute_result"
    }
   ],
   "source": [
    "D.a"
   ]
  },
  {
   "cell_type": "code",
   "execution_count": 13,
   "metadata": {
    "collapsed": false
   },
   "outputs": [
    {
     "data": {
      "text/plain": [
       "2"
      ]
     },
     "execution_count": 13,
     "metadata": {},
     "output_type": "execute_result"
    }
   ],
   "source": [
    "C.a"
   ]
  },
  {
   "cell_type": "code",
   "execution_count": 14,
   "metadata": {
    "collapsed": false
   },
   "outputs": [
    {
     "data": {
      "text/plain": [
       "False"
      ]
     },
     "execution_count": 14,
     "metadata": {},
     "output_type": "execute_result"
    }
   ],
   "source": [
    "id(C) ==id(D)"
   ]
  },
  {
   "cell_type": "markdown",
   "metadata": {},
   "source": [
    "## standalone\n",
    "\n",
    "正经单例模式,这回事第一次实例化后就无法改变"
   ]
  },
  {
   "cell_type": "markdown",
   "metadata": {},
   "source": [
    "> 使用Singleton元类"
   ]
  },
  {
   "cell_type": "code",
   "execution_count": 15,
   "metadata": {
    "collapsed": true
   },
   "outputs": [],
   "source": [
    "class Singleton(type):  \n",
    "    def __init__(cls, name, bases, dict):  \n",
    "        super(Singleton, cls).__init__(name, bases, dict)  \n",
    "        cls._instance = None  \n",
    "    def __call__(cls, *args, **kw):  \n",
    "        if cls._instance is None:  \n",
    "            cls._instance = super(Singleton, cls).__call__(*args, **kw)  \n",
    "        return cls._instance  "
   ]
  },
  {
   "cell_type": "markdown",
   "metadata": {},
   "source": [
    "3中用法:"
   ]
  },
  {
   "cell_type": "markdown",
   "metadata": {},
   "source": [
    "\n",
    "```python\n",
    "class MySingleton(object,metaclass=Singleton ):  \n",
    "    def __init__(self,a):\n",
    "        self.a = a\n",
    "        \n",
    "```"
   ]
  },
  {
   "cell_type": "markdown",
   "metadata": {},
   "source": [
    "2.7中用法:"
   ]
  },
  {
   "cell_type": "markdown",
   "metadata": {},
   "source": [
    "```python\n",
    "class MySingleton(object): \n",
    "    __metaclass__ = Singleton \n",
    "    def __init__(self,a):\n",
    "        self.a = a\n",
    "```"
   ]
  },
  {
   "cell_type": "code",
   "execution_count": 16,
   "metadata": {
    "collapsed": true
   },
   "outputs": [],
   "source": [
    "class MySingleton(object): \n",
    "    __metaclass__ = Singleton \n",
    "    def __init__(self,a):\n",
    "        self.a = a"
   ]
  },
  {
   "cell_type": "code",
   "execution_count": 17,
   "metadata": {
    "collapsed": true
   },
   "outputs": [],
   "source": [
    "E = MySingleton(1)"
   ]
  },
  {
   "cell_type": "code",
   "execution_count": 18,
   "metadata": {
    "collapsed": false
   },
   "outputs": [
    {
     "data": {
      "text/plain": [
       "1"
      ]
     },
     "execution_count": 18,
     "metadata": {},
     "output_type": "execute_result"
    }
   ],
   "source": [
    "E.a"
   ]
  },
  {
   "cell_type": "code",
   "execution_count": 19,
   "metadata": {
    "collapsed": true
   },
   "outputs": [],
   "source": [
    "F = MySingleton(2)"
   ]
  },
  {
   "cell_type": "code",
   "execution_count": 20,
   "metadata": {
    "collapsed": false
   },
   "outputs": [
    {
     "data": {
      "text/plain": [
       "1"
      ]
     },
     "execution_count": 20,
     "metadata": {},
     "output_type": "execute_result"
    }
   ],
   "source": [
    "F.a"
   ]
  },
  {
   "cell_type": "code",
   "execution_count": 21,
   "metadata": {
    "collapsed": false
   },
   "outputs": [
    {
     "data": {
      "text/plain": [
       "True"
      ]
     },
     "execution_count": 21,
     "metadata": {},
     "output_type": "execute_result"
    }
   ],
   "source": [
    "id(E) == id(F)"
   ]
  },
  {
   "cell_type": "markdown",
   "metadata": {},
   "source": [
    "> 利用装饰器"
   ]
  },
  {
   "cell_type": "code",
   "execution_count": 29,
   "metadata": {
    "collapsed": true
   },
   "outputs": [],
   "source": [
    "def singleton(cls, *args, **kw):  \n",
    "    instances = {}  \n",
    "    def _singleton(*args, **kw):  \n",
    "        if cls not in instances:  \n",
    "            instances[cls] = cls(*args, **kw)  \n",
    "        return instances[cls]  \n",
    "    return _singleton  "
   ]
  },
  {
   "cell_type": "code",
   "execution_count": 30,
   "metadata": {
    "collapsed": true
   },
   "outputs": [],
   "source": [
    "@singleton  \n",
    "class MyClass4(object):  \n",
    "    def __init__(self, a):  \n",
    "        self.a = a  "
   ]
  },
  {
   "cell_type": "code",
   "execution_count": 31,
   "metadata": {
    "collapsed": false
   },
   "outputs": [
    {
     "name": "stdout",
     "output_type": "stream",
     "text": [
      "1\n",
      "1\n"
     ]
    }
   ],
   "source": [
    "one = MyClass4(1)  \n",
    "print one.a\n",
    "two = MyClass4(2)  \n",
    "print two.a"
   ]
  },
  {
   "cell_type": "code",
   "execution_count": 32,
   "metadata": {
    "collapsed": false
   },
   "outputs": [
    {
     "name": "stdout",
     "output_type": "stream",
     "text": [
      "3\n"
     ]
    }
   ],
   "source": [
    "two.a = 3  \n",
    "print(one.a) "
   ]
  },
  {
   "cell_type": "code",
   "execution_count": 33,
   "metadata": {
    "collapsed": false
   },
   "outputs": [
    {
     "name": "stdout",
     "output_type": "stream",
     "text": [
      "4361105488\n",
      "4361105488\n"
     ]
    }
   ],
   "source": [
    "print(id(one))\n",
    "print(id(two)) "
   ]
  },
  {
   "cell_type": "markdown",
   "metadata": {},
   "source": [
    "> 单例模式类工厂"
   ]
  },
  {
   "cell_type": "code",
   "execution_count": 8,
   "metadata": {
    "collapsed": true
   },
   "outputs": [],
   "source": [
    "class singletonFactory(object):\n",
    "    instances = {}\n",
    "    def __call__(self,clz,*args, **kw):\n",
    "        if clz not in self.instances:  \n",
    "            self.instances[clz] = clz(*args, **kw)  \n",
    "        return self.instances[clz]  "
   ]
  },
  {
   "cell_type": "code",
   "execution_count": 9,
   "metadata": {
    "collapsed": false
   },
   "outputs": [],
   "source": [
    "class MyClass4(object):  \n",
    "    def __init__(self, a):  \n",
    "        self.a = a  "
   ]
  },
  {
   "cell_type": "code",
   "execution_count": 11,
   "metadata": {
    "collapsed": false
   },
   "outputs": [],
   "source": [
    "fac = singletonFactory()\n",
    "a = fac(MyClass4,1)"
   ]
  },
  {
   "cell_type": "code",
   "execution_count": 12,
   "metadata": {
    "collapsed": false
   },
   "outputs": [
    {
     "data": {
      "text/plain": [
       "1"
      ]
     },
     "execution_count": 12,
     "metadata": {},
     "output_type": "execute_result"
    }
   ],
   "source": [
    "a.a"
   ]
  },
  {
   "cell_type": "code",
   "execution_count": 13,
   "metadata": {
    "collapsed": true
   },
   "outputs": [],
   "source": [
    "b = fac(MyClass4,2)"
   ]
  },
  {
   "cell_type": "code",
   "execution_count": 14,
   "metadata": {
    "collapsed": false,
    "scrolled": true
   },
   "outputs": [
    {
     "data": {
      "text/plain": [
       "1"
      ]
     },
     "execution_count": 14,
     "metadata": {},
     "output_type": "execute_result"
    }
   ],
   "source": [
    "b.a"
   ]
  },
  {
   "cell_type": "markdown",
   "metadata": {},
   "source": [
    "还可以监控有哪些单例"
   ]
  },
  {
   "cell_type": "code",
   "execution_count": 38,
   "metadata": {
    "collapsed": false
   },
   "outputs": [
    {
     "data": {
      "text/plain": [
       "{__main__.你: <__main__.你 at 0x103f232d0>,\n",
       " __main__.MyClass4: <__main__.MyClass4 at 0x103f23ad0>,\n",
       " __main__.A: <__main__.A at 0x103f23150>}"
      ]
     },
     "execution_count": 38,
     "metadata": {},
     "output_type": "execute_result"
    }
   ],
   "source": [
    "fac.instances"
   ]
  },
  {
   "cell_type": "markdown",
   "metadata": {},
   "source": [
    "配合type方法实现多个单例模式类的的定义和使用"
   ]
  },
  {
   "cell_type": "code",
   "execution_count": 19,
   "metadata": {
    "collapsed": true
   },
   "outputs": [],
   "source": [
    "class base(object):\n",
    "    def __init__(self,a):\n",
    "        self.a =a"
   ]
  },
  {
   "cell_type": "code",
   "execution_count": 31,
   "metadata": {
    "collapsed": true
   },
   "outputs": [],
   "source": [
    "clzname = [\"你\",\"我\",\"它\"]"
   ]
  },
  {
   "cell_type": "code",
   "execution_count": 32,
   "metadata": {
    "collapsed": false
   },
   "outputs": [],
   "source": [
    "classes = [type(i,(base,),{}) for i in clzname]"
   ]
  },
  {
   "cell_type": "code",
   "execution_count": 33,
   "metadata": {
    "collapsed": false
   },
   "outputs": [
    {
     "data": {
      "text/plain": [
       "[__main__.你, __main__.我, __main__.它]"
      ]
     },
     "execution_count": 33,
     "metadata": {},
     "output_type": "execute_result"
    }
   ],
   "source": [
    "classes"
   ]
  },
  {
   "cell_type": "code",
   "execution_count": 34,
   "metadata": {
    "collapsed": true
   },
   "outputs": [],
   "source": [
    "c = fac(classes[0],1)"
   ]
  },
  {
   "cell_type": "code",
   "execution_count": 35,
   "metadata": {
    "collapsed": false
   },
   "outputs": [
    {
     "data": {
      "text/plain": [
       "1"
      ]
     },
     "execution_count": 35,
     "metadata": {},
     "output_type": "execute_result"
    }
   ],
   "source": [
    "c.a"
   ]
  },
  {
   "cell_type": "code",
   "execution_count": 36,
   "metadata": {
    "collapsed": true
   },
   "outputs": [],
   "source": [
    "d = fac(classes[0],2)"
   ]
  },
  {
   "cell_type": "code",
   "execution_count": 37,
   "metadata": {
    "collapsed": false
   },
   "outputs": [
    {
     "data": {
      "text/plain": [
       "1"
      ]
     },
     "execution_count": 37,
     "metadata": {},
     "output_type": "execute_result"
    }
   ],
   "source": [
    "d.a"
   ]
  },
  {
   "cell_type": "code",
   "execution_count": 39,
   "metadata": {
    "collapsed": false
   },
   "outputs": [
    {
     "data": {
      "text/plain": [
       "True"
      ]
     },
     "execution_count": 39,
     "metadata": {},
     "output_type": "execute_result"
    }
   ],
   "source": [
    "id(c)==id(d)"
   ]
  },
  {
   "cell_type": "markdown",
   "metadata": {},
   "source": [
    "> 实例:汇率\n",
    "\n",
    "假设我们有一个应用需要一直追踪美元兑rmb的汇率,这是一个典型的单例模式一般汇率只获取一次就好,不用每次调用都获取一遍,我们为了减少"
   ]
  },
  {
   "cell_type": "code",
   "execution_count": null,
   "metadata": {
    "collapsed": true
   },
   "outputs": [],
   "source": [
    "URL=\"http://download.finance.yahoo.com/d/quotes.csv?s=USDCNY=X&f=sl1d1t1ba&e=.csv\""
   ]
  },
  {
   "cell_type": "code",
   "execution_count": null,
   "metadata": {
    "collapsed": false
   },
   "outputs": [],
   "source": [
    "from requests import get"
   ]
  },
  {
   "cell_type": "code",
   "execution_count": null,
   "metadata": {
    "collapsed": false
   },
   "outputs": [],
   "source": [
    "a = get(URL)"
   ]
  },
  {
   "cell_type": "code",
   "execution_count": null,
   "metadata": {
    "collapsed": false
   },
   "outputs": [],
   "source": [
    "a.text"
   ]
  },
  {
   "cell_type": "code",
   "execution_count": null,
   "metadata": {
    "collapsed": false
   },
   "outputs": [],
   "source": [
    "from Creational import lazy, singleton\n",
    "@singleton \n",
    "class ExchangeRateUSDtoCNY(object):  \n",
    "    def __init__(self):  \n",
    "        self.date = None\n",
    "        self.time = None\n",
    "        self.From = \"USD\"\n",
    "        self.To=\"CNY\"\n",
    "        self.URL=\"http://download.finance.yahoo.com/d/quotes.csv?s={self.From}{self.To}=X&f=sl1d1t1ba&e=.csv\".format(self=self)\n",
    "    @lazy\n",
    "    def current_value(self):\n",
    "        class Value(object):\n",
    "            def __str__(self):\n",
    "                time = self.time.strftime('%m/%d/%Y%H:%M%p')\n",
    "                return \"\"\"\\\n",
    "                {time}:{self.value}\n",
    "                \"\"\".format(time=time,self=self)\n",
    "            def __init__(self,time,value):\n",
    "                self.time = time\n",
    "                self.value = value\n",
    "        from requests import get\n",
    "        from datetime import datetime\n",
    "        resultstr = get(self.URL).text\n",
    "        result = resultstr.split(\",\")[1]\n",
    "        date = result[2]\n",
    "        time = result[3].upper()\n",
    "        return Value(datetime.strptime(date + time, '%m/%d/%Y%H:%M%p'),result)\n",
    "        \n",
    "    "
   ]
  },
  {
   "cell_type": "code",
   "execution_count": null,
   "metadata": {
    "collapsed": false
   },
   "outputs": [],
   "source": [
    "a = ExchangeRateUSDtoCNY()"
   ]
  },
  {
   "cell_type": "code",
   "execution_count": null,
   "metadata": {
    "collapsed": false
   },
   "outputs": [],
   "source": [
    "a.current_value"
   ]
  },
  {
   "cell_type": "code",
   "execution_count": null,
   "metadata": {
    "collapsed": false
   },
   "outputs": [],
   "source": [
    "from requests import get \n",
    "    \n",
    "from datetime import datetime\n",
    "URL = \"http://download.finance.yahoo.com/d/quotes.csv?s=USDCNY=X&f=sl1d1t1ba&e=.csv\"\n",
    "resultstr = get(URL).text\n",
    "result = resultstr.split(\",\")\n",
    "date = result[2]\n",
    "time = result[3].upper()\n",
    "datetime.strptime(date.join(time), '\"%m/%d/%Y\"\"%H:%M%p\"')"
   ]
  },
  {
   "cell_type": "code",
   "execution_count": null,
   "metadata": {
    "collapsed": false
   },
   "outputs": [],
   "source": [
    "datetime"
   ]
  },
  {
   "cell_type": "code",
   "execution_count": null,
   "metadata": {
    "collapsed": false
   },
   "outputs": [],
   "source": [
    "date.split('\"')[1]"
   ]
  },
  {
   "cell_type": "code",
   "execution_count": null,
   "metadata": {
    "collapsed": true
   },
   "outputs": [],
   "source": []
  }
 ],
 "metadata": {
  "kernelspec": {
   "display_name": "Python 2",
   "language": "python",
   "name": "python2"
  },
  "language_info": {
   "codemirror_mode": {
    "name": "ipython",
    "version": 2
   },
   "file_extension": ".py",
   "mimetype": "text/x-python",
   "name": "python",
   "nbconvert_exporter": "python",
   "pygments_lexer": "ipython2",
   "version": "2.7.11"
  }
 },
 "nbformat": 4,
 "nbformat_minor": 0
}
