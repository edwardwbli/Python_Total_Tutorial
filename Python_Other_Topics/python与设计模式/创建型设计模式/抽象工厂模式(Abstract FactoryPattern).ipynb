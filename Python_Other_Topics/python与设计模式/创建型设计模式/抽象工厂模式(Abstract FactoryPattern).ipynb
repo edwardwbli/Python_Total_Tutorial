{
 "cells": [
  {
   "cell_type": "markdown",
   "metadata": {
    "collapsed": true
   },
   "source": [
    "抽象工厂模式是工厂模式的扩展,它和工厂方法模式不同之处在于,其实它需要判断使用什么工厂而不是使用什么类,打个比方\n",
    "\n",
    "宠物店有猫有狗,我们只是要找个宠物,是猫是狗的需要我们自己定义\n",
    "\n",
    "抽象工厂同样也是模式匹配,只是它匹配的是一个抽象概念而不是对象"
   ]
  },
  {
   "cell_type": "code",
   "execution_count": 1,
   "metadata": {
    "collapsed": false
   },
   "outputs": [
    {
     "name": "stdout",
     "output_type": "stream",
     "text": [
      "We have a lovely Dog\n",
      "It says woof\n",
      "We also have dog food\n",
      "====================\n",
      "We have a lovely Dog\n",
      "It says woof\n",
      "We also have dog food\n",
      "====================\n",
      "We have a lovely Dog\n",
      "It says woof\n",
      "We also have dog food\n",
      "====================\n"
     ]
    }
   ],
   "source": [
    "import random\n",
    "\n",
    "\n",
    "class PetShop:\n",
    "\n",
    "    \"\"\"A pet shop\"\"\"\n",
    "\n",
    "    def __init__(self, animal_factory=None):\n",
    "        \"\"\"pet_factory is our abstract factory.  We can set it at will.\"\"\"\n",
    "\n",
    "        self.pet_factory = animal_factory\n",
    "\n",
    "    def show_pet(self):\n",
    "        \"\"\"Creates and shows a pet using the abstract factory\"\"\"\n",
    "\n",
    "        pet = self.pet_factory.get_pet()\n",
    "        print(\"We have a lovely {}\".format(pet))\n",
    "        print(\"It says {}\".format(pet.speak()))\n",
    "        print(\"We also have {}\".format(self.pet_factory.get_food()))\n",
    "\n",
    "\n",
    "# Stuff that our factory makes\n",
    "\n",
    "class Dog:\n",
    "\n",
    "    def speak(self):\n",
    "        return \"woof\"\n",
    "\n",
    "    def __str__(self):\n",
    "        return \"Dog\"\n",
    "\n",
    "\n",
    "class Cat:\n",
    "\n",
    "    def speak(self):\n",
    "        return \"meow\"\n",
    "\n",
    "    def __str__(self):\n",
    "        return \"Cat\"\n",
    "\n",
    "\n",
    "# Factory classes\n",
    "\n",
    "class DogFactory:\n",
    "\n",
    "    def get_pet(self):\n",
    "        return Dog()\n",
    "\n",
    "    def get_food(self):\n",
    "        return \"dog food\"\n",
    "\n",
    "\n",
    "class CatFactory:\n",
    "\n",
    "    def get_pet(self):\n",
    "        return Cat()\n",
    "\n",
    "    def get_food(self):\n",
    "        return \"cat food\"\n",
    "\n",
    "\n",
    "# Create the proper family\n",
    "def get_factory():\n",
    "    \"\"\"Let's be dynamic!\"\"\"\n",
    "    return random.choice([DogFactory, CatFactory])()\n",
    "\n",
    "\n",
    "# Show pets with various factories\n",
    "if __name__ == \"__main__\":\n",
    "    for i in range(3):\n",
    "        shop = PetShop(get_factory())\n",
    "        shop.show_pet()\n",
    "        print(\"=\" * 20)"
   ]
  }
 ],
 "metadata": {
  "kernelspec": {
   "display_name": "Python 2",
   "language": "python",
   "name": "python2"
  },
  "language_info": {
   "codemirror_mode": {
    "name": "ipython",
    "version": 2
   },
   "file_extension": ".py",
   "mimetype": "text/x-python",
   "name": "python",
   "nbconvert_exporter": "python",
   "pygments_lexer": "ipython2",
   "version": "2.7.11"
  }
 },
 "nbformat": 4,
 "nbformat_minor": 0
}
