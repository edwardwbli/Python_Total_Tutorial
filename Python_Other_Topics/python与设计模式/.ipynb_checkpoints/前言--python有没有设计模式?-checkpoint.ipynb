{
 "cells": [
  {
   "cell_type": "markdown",
   "metadata": {},
   "source": [
    "许多人说动态语言没有设计模式,这话既有道理有没有道理,动态语言用语言特性抹平了一些繁琐的操作,所以人们看起来觉得好像复杂的设计模式没有了,其实呢它还在那里,只是你用的时候没发现而已.前人的努力换来了后人的便捷,这才是python中设计模式的真谛.这部分我们就来看看经典的23种设计模式在python中的实现"
   ]
  },
  {
   "cell_type": "markdown",
   "metadata": {},
   "source": [
    "我们会分为三大模块详细讨论设计模式在python中的应用:\n",
    "\n",
    "+ 创建模式:\n",
    "\n",
    "    + 抽象工厂模式\n",
    "    + 单例模式\n",
    "    + 建造者模式\n",
    "    + 工厂方法模式\n",
    "    + 原型模式\n",
    "    + 池模式\n",
    "    \n",
    "+ 结构模式:\n",
    "\n",
    "    + \n",
    "    \n"
   ]
  }
 ],
 "metadata": {
  "kernelspec": {
   "display_name": "Python 2",
   "language": "python",
   "name": "python2"
  },
  "language_info": {
   "codemirror_mode": {
    "name": "ipython",
    "version": 2
   },
   "file_extension": ".py",
   "mimetype": "text/x-python",
   "name": "python",
   "nbconvert_exporter": "python",
   "pygments_lexer": "ipython2",
   "version": "2.7.11"
  }
 },
 "nbformat": 4,
 "nbformat_minor": 0
}
